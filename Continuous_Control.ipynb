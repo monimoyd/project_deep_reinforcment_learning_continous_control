{
 "cells": [
  {
   "cell_type": "markdown",
   "metadata": {},
   "source": [
    "# Continuous Control\n",
    "\n",
    "---\n",
    "\n",
    "In this notebook, you will learn how to use the Unity ML-Agents environment for the second project of the [Deep Reinforcement Learning Nanodegree](https://www.udacity.com/course/deep-reinforcement-learning-nanodegree--nd893) program.\n",
    "\n",
    "### 1. Start the Environment\n",
    "\n",
    "We begin by importing the necessary packages.  If the code cell below returns an error, please revisit the project instructions to double-check that you have installed [Unity ML-Agents](https://github.com/Unity-Technologies/ml-agents/blob/master/docs/Installation.md) and [NumPy](http://www.numpy.org/)."
   ]
  },
  {
   "cell_type": "code",
   "execution_count": 1,
   "metadata": {},
   "outputs": [],
   "source": [
    "import sys\n",
    "sys.path.append('E:/udacity_deep_reinforcement_learning/deep-reinforcement-learning-master/python')"
   ]
  },
  {
   "cell_type": "code",
   "execution_count": 2,
   "metadata": {},
   "outputs": [],
   "source": [
    "import matplotlib.pyplot as plt\n",
    "import json\n",
    "\n",
    "import numpy as np\n",
    "import random\n",
    "import copy\n",
    "from collections import namedtuple, deque\n",
    "\n",
    "import torch\n",
    "import torch.nn as nn\n",
    "import torch.nn.functional as F\n",
    "import torch.optim as optim"
   ]
  },
  {
   "cell_type": "code",
   "execution_count": 3,
   "metadata": {},
   "outputs": [],
   "source": [
    "from unityagents import UnityEnvironment\n",
    "import numpy as np"
   ]
  },
  {
   "cell_type": "markdown",
   "metadata": {},
   "source": [
    "Next, we will start the environment!  **_Before running the code cell below_**, change the `file_name` parameter to match the location of the Unity environment that you downloaded.\n",
    "\n",
    "- **Mac**: `\"path/to/Reacher.app\"`\n",
    "- **Windows** (x86): `\"path/to/Reacher_Windows_x86/Reacher.exe\"`\n",
    "- **Windows** (x86_64): `\"path/to/Reacher_Windows_x86_64/Reacher.exe\"`\n",
    "- **Linux** (x86): `\"path/to/Reacher_Linux/Reacher.x86\"`\n",
    "- **Linux** (x86_64): `\"path/to/Reacher_Linux/Reacher.x86_64\"`\n",
    "- **Linux** (x86, headless): `\"path/to/Reacher_Linux_NoVis/Reacher.x86\"`\n",
    "- **Linux** (x86_64, headless): `\"path/to/Reacher_Linux_NoVis/Reacher.x86_64\"`\n",
    "\n",
    "For instance, if you are using a Mac, then you downloaded `Reacher.app`.  If this file is in the same folder as the notebook, then the line below should appear as follows:\n",
    "```\n",
    "env = UnityEnvironment(file_name=\"Reacher.app\")\n",
    "```"
   ]
  },
  {
   "cell_type": "code",
   "execution_count": 4,
   "metadata": {
    "scrolled": true
   },
   "outputs": [
    {
     "name": "stderr",
     "output_type": "stream",
     "text": [
      "INFO:unityagents:\n",
      "'Academy' started successfully!\n",
      "Unity Academy name: Academy\n",
      "        Number of Brains: 1\n",
      "        Number of External Brains : 1\n",
      "        Lesson number : 0\n",
      "        Reset Parameters :\n",
      "\t\tgoal_speed -> 1.0\n",
      "\t\tgoal_size -> 5.0\n",
      "Unity brain name: ReacherBrain\n",
      "        Number of Visual Observations (per agent): 0\n",
      "        Vector Observation space type: continuous\n",
      "        Vector Observation space size (per agent): 33\n",
      "        Number of stacked Vector Observation: 1\n",
      "        Vector Action space type: continuous\n",
      "        Vector Action space size (per agent): 4\n",
      "        Vector Action descriptions: , , , \n"
     ]
    }
   ],
   "source": [
    "env = UnityEnvironment(file_name='./Reacher_Windows_x86_64/Reacher.exe')"
   ]
  },
  {
   "cell_type": "markdown",
   "metadata": {},
   "source": [
    "Environments contain **_brains_** which are responsible for deciding the actions of their associated agents. Here we check for the first brain available, and set it as the default brain we will be controlling from Python."
   ]
  },
  {
   "cell_type": "code",
   "execution_count": 5,
   "metadata": {},
   "outputs": [],
   "source": [
    "# get the default brain\n",
    "brain_name = env.brain_names[0]\n",
    "brain = env.brains[brain_name]"
   ]
  },
  {
   "cell_type": "markdown",
   "metadata": {},
   "source": [
    "### 2. Examine the State and Action Spaces\n",
    "\n",
    "In this environment, a double-jointed arm can move to target locations. A reward of `+0.1` is provided for each step that the agent's hand is in the goal location. Thus, the goal of your agent is to maintain its position at the target location for as many time steps as possible.\n",
    "\n",
    "The observation space consists of `33` variables corresponding to position, rotation, velocity, and angular velocities of the arm.  Each action is a vector with four numbers, corresponding to torque applicable to two joints.  Every entry in the action vector must be a number between `-1` and `1`.\n",
    "\n",
    "Run the code cell below to print some information about the environment."
   ]
  },
  {
   "cell_type": "code",
   "execution_count": 6,
   "metadata": {},
   "outputs": [
    {
     "name": "stdout",
     "output_type": "stream",
     "text": [
      "Number of agents: 20\n",
      "Size of each action: 4\n",
      "There are 20 agents. Each observes a state with length: 33\n",
      "The state for the first agent looks like: [ 0.00000000e+00 -4.00000000e+00  0.00000000e+00  1.00000000e+00\n",
      " -0.00000000e+00 -0.00000000e+00 -4.37113883e-08  0.00000000e+00\n",
      "  0.00000000e+00  0.00000000e+00  0.00000000e+00  0.00000000e+00\n",
      "  0.00000000e+00  0.00000000e+00 -1.00000000e+01  0.00000000e+00\n",
      "  1.00000000e+00 -0.00000000e+00 -0.00000000e+00 -4.37113883e-08\n",
      "  0.00000000e+00  0.00000000e+00  0.00000000e+00  0.00000000e+00\n",
      "  0.00000000e+00  0.00000000e+00  5.75471878e+00 -1.00000000e+00\n",
      "  5.55726624e+00  0.00000000e+00  1.00000000e+00  0.00000000e+00\n",
      " -1.68164849e-01]\n"
     ]
    }
   ],
   "source": [
    "# reset the environment\n",
    "env_info = env.reset(train_mode=True)[brain_name]\n",
    "\n",
    "# number of agents\n",
    "num_agents = len(env_info.agents)\n",
    "print('Number of agents:', num_agents)\n",
    "\n",
    "# size of each action\n",
    "action_size = brain.vector_action_space_size\n",
    "print('Size of each action:', action_size)\n",
    "\n",
    "# examine the state space \n",
    "states = env_info.vector_observations\n",
    "state_size = states.shape[1]\n",
    "print('There are {} agents. Each observes a state with length: {}'.format(states.shape[0], state_size))\n",
    "print('The state for the first agent looks like:', states[0])"
   ]
  },
  {
   "cell_type": "markdown",
   "metadata": {},
   "source": [
    "### 3. Take Random Actions in the Environment\n",
    "\n",
    "In the next code cell, you will learn how to use the Python API to control the agent and receive feedback from the environment.\n",
    "\n",
    "Once this cell is executed, you will watch the agent's performance, if it selects an action at random with each time step.  A window should pop up that allows you to observe the agent, as it moves through the environment.  \n",
    "\n",
    "Of course, as part of the project, you'll have to change the code so that the agent is able to use its experience to gradually choose better actions when interacting with the environment!"
   ]
  },
  {
   "cell_type": "code",
   "execution_count": 7,
   "metadata": {},
   "outputs": [
    {
     "name": "stdout",
     "output_type": "stream",
     "text": [
      "Total score (averaged over agents) this episode: 0.13949999688193201\n"
     ]
    }
   ],
   "source": [
    "env_info = env.reset(train_mode=False)[brain_name]     # reset the environment    \n",
    "states = env_info.vector_observations                  # get the current state (for each agent)\n",
    "scores = np.zeros(num_agents)                          # initialize the score (for each agent)\n",
    "while True:\n",
    "    actions = np.random.randn(num_agents, action_size) # select an action (for each agent)\n",
    "    actions = np.clip(actions, -1, 1)                  # all actions between -1 and 1\n",
    "    env_info = env.step(actions)[brain_name]           # send all actions to tne environment\n",
    "    next_states = env_info.vector_observations         # get next state (for each agent)\n",
    "    rewards = env_info.rewards                         # get reward (for each agent)\n",
    "    dones = env_info.local_done                        # see if episode finished\n",
    "    scores += env_info.rewards                         # update the score (for each agent)\n",
    "    states = next_states                               # roll over states to next time step\n",
    "    if np.any(dones):                                  # exit loop if episode finished\n",
    "        break\n",
    "print('Total score (averaged over agents) this episode: {}'.format(np.mean(scores)))"
   ]
  },
  {
   "cell_type": "markdown",
   "metadata": {},
   "source": [
    "When finished, you can close the environment."
   ]
  },
  {
   "cell_type": "markdown",
   "metadata": {},
   "source": [
    "### 4. It's Your Turn!\n",
    "\n",
    "Now it's your turn to train your own agent to solve the environment!  When training the environment, set `train_mode=True`, so that the line for resetting the environment looks like the following:\n",
    "```python\n",
    "env_info = env.reset(train_mode=True)[brain_name]\n",
    "```"
   ]
  },
  {
   "cell_type": "code",
   "execution_count": 8,
   "metadata": {},
   "outputs": [],
   "source": [
    "def reduce_learning_rate(optimizer, episode, factor):\n",
    "    \"\"\"Reduce the learning rate by multiplying factor applicable only if epoch is more than 400\n",
    "       Parameters:\n",
    "       optimizer: Optimizer Used\n",
    "       episode: Current Episode\n",
    "       factor: The multiplication factory by which learning rate needs to be reduced\n",
    "    \"\"\"\n",
    "    # If episode is less than 25, do not do anything\n",
    "    if episode <= 25:\n",
    "        return\n",
    "    \n",
    "    # Update the learning Rate by multiplying by factor and update only if\n",
    "    # new learning rate is not less than 1e-6\n",
    "    for param_group in optimizer.param_groups:\n",
    "        change_lr_value=np.around(param_group['lr']*factor, 8)\n",
    "        if change_lr_value <= 0.000001:\n",
    "            change_lr_value = 0.000001  \n",
    "        param_group['lr'] = change_lr_value\n",
    "        print(\"\\nAs mean score over 10  episodes did not improve by 1.5 after 10 episodes, learning rate has been changed to: \" +str(param_group['lr']))\n",
    "            \n",
    "def learning_rate_adjustment_needed(mean_score_list, episode, episode_last_lr_update):\n",
    "    \"\"\"This method finds out if adjustment of learning rate is needed or not. \n",
    "       The logic is find the difference between current mean score and the mean score \n",
    "       100 episodes back. If the diffrence is less than 1.0, then learning rate adjustment is needed\n",
    "       and the method will return True, else the method will return False\n",
    "      \n",
    "       Parameters:\n",
    "       mean_score_list: List\n",
    "       episode: Current Episode\n",
    "       factor: The multiplication factory by which learning rate needs to be reduced\n",
    "    \"\"\"\n",
    "    if episode-episode_last_lr_update < 20:\n",
    "        return False\n",
    "    if len(mean_score_list) < 10:\n",
    "        return False\n",
    "    mean_score_current = mean_score_list[-1]\n",
    "    mean_score_10_before = mean_score_list[-10]\n",
    "    if (mean_score_current - mean_score_10_before) < 1.5:\n",
    "        return True\n",
    "    else:\n",
    "        return False"
   ]
  },
  {
   "cell_type": "code",
   "execution_count": 9,
   "metadata": {},
   "outputs": [],
   "source": [
    "GAMMA=0.99\n",
    "from ddpg_agent import Agent\n",
    "\n",
    "\n",
    "def ddpg(actor_hidden_layers, critic_hidden_layers, actor_model_file_path, critic_model_file_path,  n_episodes=2000, max_t=2000, learning_rate_reduction_factor=0.7):\n",
    "    global env_info\n",
    "    \n",
    "    agent = Agent(state_size=env_info.vector_observations.shape[1], action_size=brain.vector_action_space_size, num_agents=env_info.vector_observations.shape[0],  random_seed=52, actor_hidden_layers=actor_hidden_layers, critic_hidden_layers=critic_hidden_layers)\n",
    "    \n",
    "    scores_deque = deque(maxlen=100)\n",
    "    scores = []\n",
    "    mean_over_100_score_list = []\n",
    "    number_of_steps_list = []\n",
    "    \n",
    "    max_score = -np.Inf\n",
    "    episode_last_lr_update = 0\n",
    "    for i_episode in range(1, n_episodes+1):\n",
    "        state = env.reset()\n",
    "        agent.reset()\n",
    "        env_info = env.reset(train_mode=True)[brain_name]     # reset the environment\n",
    "        states = env_info.vector_observations                   # get the current states (for all agents)\n",
    "        agent.reset() \n",
    "        current_scores = np.zeros(num_agents)                    \n",
    "        for t in range(max_t):\n",
    "            actions = agent.act(states)                        # get action\n",
    "            env_info = env.step(actions)[brain_name]           # send all actions to the environment\n",
    "            next_states = env_info.vector_observations         # get next state (for each agent)\n",
    "            rewards = env_info.rewards                         # get rewards (for each agent)\n",
    "            dones = env_info.local_done                        # see if episode finished\n",
    "            current_scores += rewards                          # update the score (for each agent)\n",
    "            agent.step(states, actions, rewards, next_states, dones) #train the agent\n",
    "     \n",
    "            if len(agent.memory) > 256:\n",
    "                for i in range(4):\n",
    "                    agent.learn(agent.memory.sample(), GAMMA)\n",
    "            \n",
    "            states = next_states                               # roll over states to next time step\n",
    "            if np.any(dones):                                  # exit loop if episode finished\n",
    "                break\n",
    "            \n",
    "        scores_deque.append(np.mean(current_scores))\n",
    "        scores.append(np.mean(current_scores))\n",
    "        mean_over_100_score_list.append(np.mean(scores_deque))\n",
    "        number_of_steps_list.append(t)\n",
    "        print('\\nEpisode: {}\\tAverage Score: {:.2f}\\tCurrent Score: {:.2f}'.format(i_episode, np.mean(scores_deque), np.mean(current_scores)), end=\"\")\n",
    "        if np.mean(scores_deque) > max_score:\n",
    "            max_score = np.mean(current_scores)\n",
    "            torch.save(agent.actor_local.state_dict(), actor_model_file_path)\n",
    "            torch.save(agent.critic_local.state_dict(), critic_model_file_path)\n",
    "        \n",
    "             \n",
    "        if np.mean(scores_deque) > 30.0 and len(scores_deque) >= 100:\n",
    "            torch.save(agent.actor_local.state_dict(), actor_model_file_path)\n",
    "            torch.save(agent.critic_local.state_dict(), critic_model_file_path)\n",
    "            print('\\rEpisode {}\\tAverage Score: {:.2f}'.format(i_episode, np.mean(scores_deque)))\n",
    "            print('\\rEnvironment is solved in {} Episodes'.format(i_episode))\n",
    "            break\n",
    "            \n",
    "        if learning_rate_adjustment_needed(mean_over_100_score_list, i_episode, episode_last_lr_update):\n",
    "            reduce_learning_rate(agent.get_actor_optimizer(), i_episode, learning_rate_reduction_factor)\n",
    "            reduce_learning_rate(agent.get_critic_optimizer(), i_episode, learning_rate_reduction_factor)\n",
    "            episode_last_lr_update = i_episode\n",
    "        \n",
    "    return scores, mean_over_100_score_list,number_of_steps_list\n",
    "\n"
   ]
  },
  {
   "cell_type": "markdown",
   "metadata": {},
   "source": [
    "## Try with 128x128 Neural network"
   ]
  },
  {
   "cell_type": "code",
   "execution_count": 10,
   "metadata": {},
   "outputs": [
    {
     "name": "stderr",
     "output_type": "stream",
     "text": [
      "E:\\anaconda\\lib\\site-packages\\torch\\nn\\functional.py:995: UserWarning: nn.functional.tanh is deprecated. Use torch.tanh instead.\n",
      "  warnings.warn(\"nn.functional.tanh is deprecated. Use torch.tanh instead.\")\n",
      "E:\\udacity_rl_project_trials\\p2_continuous-control\\ddpg_agent.py:130: UserWarning: torch.nn.utils.clip_grad_norm is now deprecated in favor of torch.nn.utils.clip_grad_norm_.\n",
      "  torch.nn.utils.clip_grad_norm(self.critic_local.parameters(), 1.0) #clip the gradient for the critic network (Udacity hint)\n"
     ]
    },
    {
     "name": "stdout",
     "output_type": "stream",
     "text": [
      "\n",
      "Episode: 1\tAverage Score: 0.75\tCurrent Score: 0.75\n",
      "Episode: 2\tAverage Score: 0.71\tCurrent Score: 0.66\n",
      "Episode: 3\tAverage Score: 0.87\tCurrent Score: 1.20\n",
      "Episode: 4\tAverage Score: 1.09\tCurrent Score: 1.74\n",
      "Episode: 5\tAverage Score: 1.37\tCurrent Score: 2.48\n",
      "Episode: 6\tAverage Score: 1.55\tCurrent Score: 2.44\n",
      "Episode: 7\tAverage Score: 1.73\tCurrent Score: 2.81\n",
      "Episode: 8\tAverage Score: 2.09\tCurrent Score: 4.67\n",
      "Episode: 9\tAverage Score: 2.41\tCurrent Score: 4.97\n",
      "Episode: 10\tAverage Score: 2.76\tCurrent Score: 5.90\n",
      "Episode: 11\tAverage Score: 3.16\tCurrent Score: 7.11\n",
      "Episode: 12\tAverage Score: 3.59\tCurrent Score: 8.36\n",
      "Episode: 13\tAverage Score: 4.09\tCurrent Score: 10.03\n",
      "Episode: 14\tAverage Score: 4.58\tCurrent Score: 11.00\n",
      "Episode: 15\tAverage Score: 5.09\tCurrent Score: 12.26\n",
      "Episode: 16\tAverage Score: 5.51\tCurrent Score: 11.72\n",
      "Episode: 17\tAverage Score: 5.97\tCurrent Score: 13.36\n",
      "Episode: 18\tAverage Score: 6.46\tCurrent Score: 14.84\n",
      "Episode: 19\tAverage Score: 6.86\tCurrent Score: 14.02\n",
      "Episode: 20\tAverage Score: 7.36\tCurrent Score: 16.86\n",
      "Episode: 21\tAverage Score: 7.86\tCurrent Score: 17.93\n",
      "Episode: 22\tAverage Score: 8.39\tCurrent Score: 19.54\n",
      "Episode: 23\tAverage Score: 8.97\tCurrent Score: 21.59\n",
      "Episode: 24\tAverage Score: 9.54\tCurrent Score: 22.79\n",
      "Episode: 25\tAverage Score: 10.19\tCurrent Score: 25.71\n",
      "Episode: 26\tAverage Score: 10.76\tCurrent Score: 25.09\n",
      "Episode: 27\tAverage Score: 11.45\tCurrent Score: 29.36\n",
      "Episode: 28\tAverage Score: 12.18\tCurrent Score: 31.83\n",
      "Episode: 29\tAverage Score: 12.82\tCurrent Score: 30.80\n",
      "Episode: 30\tAverage Score: 13.45\tCurrent Score: 31.77\n",
      "Episode: 31\tAverage Score: 14.06\tCurrent Score: 32.15\n",
      "Episode: 32\tAverage Score: 14.71\tCurrent Score: 34.80\n",
      "Episode: 33\tAverage Score: 15.38\tCurrent Score: 36.84\n",
      "Episode: 34\tAverage Score: 16.01\tCurrent Score: 36.88\n",
      "Episode: 35\tAverage Score: 16.55\tCurrent Score: 34.94\n",
      "Episode: 36\tAverage Score: 17.09\tCurrent Score: 36.09\n",
      "Episode: 37\tAverage Score: 17.63\tCurrent Score: 36.89\n",
      "Episode: 38\tAverage Score: 18.12\tCurrent Score: 36.26\n",
      "Episode: 39\tAverage Score: 18.54\tCurrent Score: 34.48\n",
      "Episode: 40\tAverage Score: 18.93\tCurrent Score: 34.22\n",
      "Episode: 41\tAverage Score: 19.30\tCurrent Score: 33.99\n",
      "Episode: 42\tAverage Score: 19.65\tCurrent Score: 33.92\n",
      "Episode: 43\tAverage Score: 20.04\tCurrent Score: 36.75\n",
      "Episode: 44\tAverage Score: 20.38\tCurrent Score: 34.85\n",
      "Episode: 45\tAverage Score: 20.62\tCurrent Score: 31.04\n",
      "Episode: 46\tAverage Score: 20.88\tCurrent Score: 32.84\n",
      "Episode: 47\tAverage Score: 21.18\tCurrent Score: 34.76\n",
      "Episode: 48\tAverage Score: 21.46\tCurrent Score: 34.81\n",
      "Episode: 49\tAverage Score: 21.76\tCurrent Score: 35.95\n",
      "Episode: 50\tAverage Score: 22.07\tCurrent Score: 37.18\n",
      "Episode: 51\tAverage Score: 22.34\tCurrent Score: 35.98\n",
      "Episode: 52\tAverage Score: 22.60\tCurrent Score: 36.10\n",
      "Episode: 53\tAverage Score: 22.84\tCurrent Score: 35.02\n",
      "Episode: 54\tAverage Score: 23.06\tCurrent Score: 35.01\n",
      "Episode: 55\tAverage Score: 23.30\tCurrent Score: 36.22\n",
      "Episode: 56\tAverage Score: 23.53\tCurrent Score: 35.87\n",
      "Episode: 57\tAverage Score: 23.76\tCurrent Score: 36.83\n",
      "Episode: 58\tAverage Score: 24.01\tCurrent Score: 38.07\n",
      "Episode: 59\tAverage Score: 24.21\tCurrent Score: 35.92\n",
      "Episode: 60\tAverage Score: 24.38\tCurrent Score: 34.77\n",
      "Episode: 61\tAverage Score: 24.59\tCurrent Score: 36.99\n",
      "Episode: 62\tAverage Score: 24.79\tCurrent Score: 36.98\n",
      "Episode: 63\tAverage Score: 24.97\tCurrent Score: 36.37\n",
      "Episode: 64\tAverage Score: 25.15\tCurrent Score: 36.49\n",
      "Episode: 65\tAverage Score: 25.31\tCurrent Score: 35.22\n",
      "Episode: 66\tAverage Score: 25.48\tCurrent Score: 36.48\n",
      "Episode: 67\tAverage Score: 25.61\tCurrent Score: 34.25\n",
      "Episode: 68\tAverage Score: 25.71\tCurrent Score: 32.10\n",
      "As mean score over 10  episodes did not improve by 1.5 after 10 episodes, learning rate has been changed to: 7e-05\n",
      "\n",
      "As mean score over 10  episodes did not improve by 1.5 after 10 episodes, learning rate has been changed to: 0.00035\n",
      "\n",
      "Episode: 69\tAverage Score: 25.83\tCurrent Score: 34.31\n",
      "Episode: 70\tAverage Score: 25.97\tCurrent Score: 35.83\n",
      "Episode: 71\tAverage Score: 26.11\tCurrent Score: 35.68\n",
      "Episode: 72\tAverage Score: 26.28\tCurrent Score: 38.30\n",
      "Episode: 73\tAverage Score: 26.42\tCurrent Score: 36.91\n",
      "Episode: 74\tAverage Score: 26.55\tCurrent Score: 35.84\n",
      "Episode: 75\tAverage Score: 26.67\tCurrent Score: 35.47\n",
      "Episode: 76\tAverage Score: 26.79\tCurrent Score: 35.66\n",
      "Episode: 77\tAverage Score: 26.90\tCurrent Score: 35.40\n",
      "Episode: 78\tAverage Score: 27.04\tCurrent Score: 37.52\n",
      "Episode: 79\tAverage Score: 27.16\tCurrent Score: 36.42\n",
      "Episode: 80\tAverage Score: 27.28\tCurrent Score: 37.07\n",
      "Episode: 81\tAverage Score: 27.39\tCurrent Score: 36.62\n",
      "Episode: 82\tAverage Score: 27.49\tCurrent Score: 35.10\n",
      "Episode: 83\tAverage Score: 27.53\tCurrent Score: 31.30\n",
      "Episode: 84\tAverage Score: 27.63\tCurrent Score: 35.87\n",
      "Episode: 85\tAverage Score: 27.74\tCurrent Score: 36.67\n",
      "Episode: 86\tAverage Score: 27.86\tCurrent Score: 37.74\n",
      "Episode: 87\tAverage Score: 27.97\tCurrent Score: 38.11\n",
      "Episode: 88\tAverage Score: 28.07\tCurrent Score: 36.70\n",
      "As mean score over 10  episodes did not improve by 1.5 after 10 episodes, learning rate has been changed to: 4.9e-05\n",
      "\n",
      "As mean score over 10  episodes did not improve by 1.5 after 10 episodes, learning rate has been changed to: 0.000245\n",
      "\n",
      "Episode: 89\tAverage Score: 28.18\tCurrent Score: 37.36\n",
      "Episode: 90\tAverage Score: 28.27\tCurrent Score: 36.39\n",
      "Episode: 91\tAverage Score: 28.35\tCurrent Score: 35.28\n",
      "Episode: 92\tAverage Score: 28.42\tCurrent Score: 35.10\n",
      "Episode: 93\tAverage Score: 28.49\tCurrent Score: 34.95\n",
      "Episode: 94\tAverage Score: 28.57\tCurrent Score: 35.76\n",
      "Episode: 95\tAverage Score: 28.64\tCurrent Score: 35.87\n",
      "Episode: 96\tAverage Score: 28.74\tCurrent Score: 38.10\n",
      "Episode: 97\tAverage Score: 28.82\tCurrent Score: 36.74\n",
      "Episode: 98\tAverage Score: 28.90\tCurrent Score: 35.81\n",
      "Episode: 99\tAverage Score: 28.96\tCurrent Score: 34.80\n",
      "Episode: 100\tAverage Score: 29.04\tCurrent Score: 36.94\n",
      "Episode: 101\tAverage Score: 29.38\tCurrent Score: 35.25\n",
      "Episode: 102\tAverage Score: 29.70\tCurrent Score: 32.63\n",
      "Episode 103\tAverage Score: 30.033\tCurrent Score: 34.64\n",
      "Environment is solved in 103 Episodes\n",
      "Training Time Taken is: 14206.760011911392\n"
     ]
    }
   ],
   "source": [
    "import time\n",
    "actor_hidden_layers = [128,128]\n",
    "critic_hidden_layers = [128,128]\n",
    "actor_model_file_path = \"actor_best_model_128_128.pth\"\n",
    "critic_model_file_path = \"critic_best_model_128_128.pth\"\n",
    "\n",
    "start_time = time.time()\n",
    "scores, mean_score_list, number_of_steps_list = ddpg(actor_hidden_layers, critic_hidden_layers, actor_model_file_path, critic_model_file_path)\n",
    "end_time = time.time()\n",
    "print('Training Time Taken is: {}'.format(end_time-start_time ))\n"
   ]
  },
  {
   "cell_type": "markdown",
   "metadata": {},
   "source": [
    "## Plot scores vs episodes"
   ]
  },
  {
   "cell_type": "code",
   "execution_count": 11,
   "metadata": {},
   "outputs": [
    {
     "data": {
      "image/png": "[encoded data removed]",
      "text/plain": [
       "<Figure size 432x288 with 1 Axes>"
      ]
     },
     "metadata": {},
     "output_type": "display_data"
    }
   ],
   "source": [
    "fig = plt.figure()\n",
    "ax = fig.add_subplot(111)\n",
    "plt.plot(np.arange(1, len(scores)+1), scores)\n",
    "plt.ylabel(\"Score\")\n",
    "plt.xlabel(\"Episode #\")\n",
    "plt.show()"
   ]
  },
  {
   "cell_type": "markdown",
   "metadata": {},
   "source": [
    "## Plot mean score scores over 100 consecutive episodes vs episodes"
   ]
  },
  {
   "cell_type": "code",
   "execution_count": 12,
   "metadata": {},
   "outputs": [
    {
     "data": {
      "image/png": "[encoded data removed]",
      "text/plain": [
       "<Figure size 432x288 with 1 Axes>"
      ]
     },
     "metadata": {},
     "output_type": "display_data"
    }
   ],
   "source": [
    "fig = plt.figure()\n",
    "ax = fig.add_subplot(111)\n",
    "plt.plot(np.arange(1, len(mean_score_list)+1), mean_score_list)\n",
    "plt.ylabel(\"Mean Score over 100 consecutive episodes\")\n",
    "plt.xlabel(\"Episode #\")\n",
    "plt.show()"
   ]
  },
  {
   "cell_type": "markdown",
   "metadata": {},
   "source": [
    "## Plot number of steps taken versus episodes"
   ]
  },
  {
   "cell_type": "code",
   "execution_count": 13,
   "metadata": {},
   "outputs": [
    {
     "data": {
      "image/png": "[encoded data removed]",
      "text/plain": [
       "<Figure size 432x288 with 1 Axes>"
      ]
     },
     "metadata": {},
     "output_type": "display_data"
    }
   ],
   "source": [
    "fig = plt.figure()\n",
    "ax = fig.add_subplot(111)\n",
    "plt.plot(np.arange(1, len(number_of_steps_list)+1), number_of_steps_list)\n",
    "plt.ylabel(\"Number of steps taken\")\n",
    "plt.xlabel(\"Episode #\")\n",
    "plt.show()"
   ]
  },
  {
   "cell_type": "markdown",
   "metadata": {},
   "source": [
    "## Perform Test by loading the model"
   ]
  },
  {
   "cell_type": "code",
   "execution_count": 24,
   "metadata": {},
   "outputs": [],
   "source": [
    "def ddpg_test(actor_model_file_path, n_episodes=5, max_t=2000):\n",
    "    global env_info\n",
    "    \n",
    "    agent = Agent(state_size=env_info.vector_observations.shape[1], action_size=brain.vector_action_space_size, num_agents=env_info.vector_observations.shape[0],  random_seed=52, actor_hidden_layers=actor_hidden_layers, critic_hidden_layers=critic_hidden_layers)\n",
    "    agent.actor_local.load_state_dict(torch.load(actor_model_file_path, map_location=lambda storage, loc: storage))\n",
    "    agent.eps = 0.05\n",
    "    scores = []\n",
    "      \n",
    "    for i_episode in range(1, n_episodes+1):\n",
    "        env_info = env.reset(train_mode=False)[brain_name]     # reset the environment\n",
    "        states = env_info.vector_observations                   # get the current states (for all agents)\n",
    "        agent.reset() \n",
    "        current_scores = np.zeros(num_agents)                    \n",
    "        for t in range(max_t):\n",
    "            actions = agent.act(states)                        # get action\n",
    "            env_info = env.step(actions)[brain_name]           # send all actions to the environment\n",
    "            next_states = env_info.vector_observations         # get next state (for each agent)\n",
    "            rewards = env_info.rewards                         # get rewards (for each agent)\n",
    "            dones = env_info.local_done                        # see if episode finished\n",
    "            current_scores += rewards                          # update the score (for each agent)\n",
    "                         \n",
    "            states = next_states                               # roll over states to next time step\n",
    "            if np.any(dones):                                  # exit loop if episode finished\n",
    "                break\n",
    "            \n",
    "        scores.append(np.mean(current_scores))\n",
    "        print('Episode: {}:  Score:{:.2f}'.format(i_episode, np.mean(current_scores)))\n",
    "    \n",
    "    mean_score = np.mean(scores)\n",
    "    print('Mean score over 5 Episodes is : ' + str(mean_score))  \n",
    "        \n",
    "    return scores"
   ]
  },
  {
   "cell_type": "code",
   "execution_count": 25,
   "metadata": {},
   "outputs": [
    {
     "name": "stderr",
     "output_type": "stream",
     "text": [
      "E:\\anaconda\\lib\\site-packages\\torch\\nn\\functional.py:995: UserWarning: nn.functional.tanh is deprecated. Use torch.tanh instead.\n",
      "  warnings.warn(\"nn.functional.tanh is deprecated. Use torch.tanh instead.\")\n"
     ]
    },
    {
     "name": "stdout",
     "output_type": "stream",
     "text": [
      "Episode: 1:  Score:33.50\n",
      "Episode: 2:  Score:34.82\n",
      "Episode: 3:  Score:35.82\n",
      "Episode: 4:  Score:35.16\n",
      "Episode: 5:  Score:34.96\n",
      "Mean score over 5 Episodes is : 34.85289922097697\n"
     ]
    },
    {
     "data": {
      "text/plain": [
       "[33.50249925116077,\n",
       " 34.82349922163412,\n",
       " 35.821999199315904,\n",
       " 35.15799921415746,\n",
       " 34.95849921861664]"
      ]
     },
     "execution_count": 25,
     "metadata": {},
     "output_type": "execute_result"
    }
   ],
   "source": [
    "ddpg_test(actor_model_file_path)"
   ]
  },
  {
   "cell_type": "code",
   "execution_count": 26,
   "metadata": {},
   "outputs": [],
   "source": [
    "env.close()"
   ]
  },
  {
   "cell_type": "markdown",
   "metadata": {},
   "source": [
    "## Conclustion\n",
    "\n",
    "I have used DDPG algorith for this Continous Control project. I have utilized 64x64 neural networks for both Actor and Critic. I have trained the agent and achieved the goal of score of 30 over consecutive 100 episodes in just 103 episodes.\n",
    "\n",
    "## Further Improvements:\n",
    "\n",
    "Further improvements can be done by utilizing  and i. Proximal Policy Optimization (PPO) algorithm ii. Prioritized Experence Replay"
   ]
  },
  {
   "cell_type": "code",
   "execution_count": null,
   "metadata": {},
   "outputs": [],
   "source": []
  }
 ],
 "metadata": {
  "kernelspec": {
   "display_name": "Python 3",
   "language": "python",
   "name": "python3"
  },
  "language_info": {
   "codemirror_mode": {
    "name": "ipython",
    "version": 3
   },
   "file_extension": ".py",
   "mimetype": "text/x-python",
   "name": "python",
   "nbconvert_exporter": "python",
   "pygments_lexer": "ipython3",
   "version": "3.6.4"
  }
 },
 "nbformat": 4,
 "nbformat_minor": 2
}
